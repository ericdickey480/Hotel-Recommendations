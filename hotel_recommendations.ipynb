{
 "cells": [
  {
   "cell_type": "markdown",
   "id": "6a984e67-ef11-471d-956a-ac861bc36ce4",
   "metadata": {},
   "source": [
    "# Expedia Hotel Recommendations"
   ]
  },
  {
   "cell_type": "markdown",
   "id": "946d3296-e6b2-4e40-aaaa-d0ece7856bc3",
   "metadata": {},
   "source": [
    "##### Online travel agencies are scrambling to meet the artificial intelligence driven personalization standard set by companies like Amazon and Netflix. In addition, the world of online travel has become a highly competitive space where brands try to capture our attention (and wallet) with recommending, comparing, matching, and sharing. For this assignment, we would like to create the optimal hotel recommendations for Expedia’s users that are searching for a hotel to book. For this assignment, you need to predict which “hotel cluster” the user is likely to book, given his (or her) search details.\n",
    "\n",
    "##### The data set can be found at Kaggle: Expedia Hotel Recommendations. To get started, I would suggest exploring the file train.csv, which contains the logs of user behavior.  There is another file named destinations.csv, which contains information related to hotel reviews made by users. There is a lot of data here, and making an accurate prediction is rather difficult, e.g., simply running a standard prediction algorithm will probably yield below 10% accuracy. Stary by doing some exploratory analysis of this data to help understand how to make a prediction on the hotel cluster the user is likely to select. Then, split train.csv into a training and test set (feel free to select a smaller random subset of train.csv). Then, build at least two prediction models from the training set, and report the accuracies on the test set. As I mentioned, this is a difficult problem, so be creative with your solutions. You might want to try building your own predictor rather than a standard predictor model, e.g., a random forest.  The purpose of this project is not necessarily to get great results but to understand the nuances and challenges of such problems."
   ]
  },
  {
   "cell_type": "code",
   "execution_count": 1,
   "id": "165a44a5-febd-4cc6-be19-6832319f964a",
   "metadata": {},
   "outputs": [],
   "source": [
    "import datetime\n",
    "import pandas as pd\n",
    "import numpy as np\n",
    "import matplotlib.pyplot as plt\n",
    "import seaborn as sns\n",
    "%matplotlib inline"
   ]
  },
  {
   "cell_type": "code",
   "execution_count": 2,
   "id": "44b3361f-12b1-4b17-af93-353c43e19f4e",
   "metadata": {},
   "outputs": [
    {
     "data": {
      "text/plain": [
       "(241179, 24)"
      ]
     },
     "execution_count": 2,
     "metadata": {},
     "output_type": "execute_result"
    }
   ],
   "source": [
    "# Load CSV files and sample train at 10% due to it's massive size \n",
    "df = pd.read_csv('train.csv', sep=',').dropna()\n",
    "dest = pd.read_csv('destinations.csv')\n",
    "df = df.sample(frac=0.01, random_state=99)\n",
    "df.shape"
   ]
  },
  {
   "cell_type": "code",
   "execution_count": 7,
   "id": "0ec3c183-0b86-4664-83d7-f3a4d5563491",
   "metadata": {},
   "outputs": [
    {
     "data": {
      "text/html": [
       "<div>\n",
       "<style scoped>\n",
       "    .dataframe tbody tr th:only-of-type {\n",
       "        vertical-align: middle;\n",
       "    }\n",
       "\n",
       "    .dataframe tbody tr th {\n",
       "        vertical-align: top;\n",
       "    }\n",
       "\n",
       "    .dataframe thead th {\n",
       "        text-align: right;\n",
       "    }\n",
       "</style>\n",
       "<table border=\"1\" class=\"dataframe\">\n",
       "  <thead>\n",
       "    <tr style=\"text-align: right;\">\n",
       "      <th></th>\n",
       "      <th>date_time</th>\n",
       "      <th>site_name</th>\n",
       "      <th>posa_continent</th>\n",
       "      <th>user_location_country</th>\n",
       "      <th>user_location_region</th>\n",
       "      <th>user_location_city</th>\n",
       "      <th>orig_destination_distance</th>\n",
       "      <th>user_id</th>\n",
       "      <th>is_mobile</th>\n",
       "      <th>is_package</th>\n",
       "      <th>...</th>\n",
       "      <th>srch_children_cnt</th>\n",
       "      <th>srch_rm_cnt</th>\n",
       "      <th>srch_destination_id</th>\n",
       "      <th>srch_destination_type_id</th>\n",
       "      <th>is_booking</th>\n",
       "      <th>cnt</th>\n",
       "      <th>hotel_continent</th>\n",
       "      <th>hotel_country</th>\n",
       "      <th>hotel_market</th>\n",
       "      <th>hotel_cluster</th>\n",
       "    </tr>\n",
       "  </thead>\n",
       "  <tbody>\n",
       "    <tr>\n",
       "      <th>32352134</th>\n",
       "      <td>2014-05-22 11:40:07</td>\n",
       "      <td>2</td>\n",
       "      <td>3</td>\n",
       "      <td>66</td>\n",
       "      <td>174</td>\n",
       "      <td>24103</td>\n",
       "      <td>2323.5232</td>\n",
       "      <td>802499</td>\n",
       "      <td>0</td>\n",
       "      <td>1</td>\n",
       "      <td>...</td>\n",
       "      <td>0</td>\n",
       "      <td>1</td>\n",
       "      <td>1442</td>\n",
       "      <td>3</td>\n",
       "      <td>0</td>\n",
       "      <td>1</td>\n",
       "      <td>4</td>\n",
       "      <td>125</td>\n",
       "      <td>177</td>\n",
       "      <td>44</td>\n",
       "    </tr>\n",
       "    <tr>\n",
       "      <th>29796021</th>\n",
       "      <td>2013-06-29 12:24:37</td>\n",
       "      <td>2</td>\n",
       "      <td>3</td>\n",
       "      <td>66</td>\n",
       "      <td>311</td>\n",
       "      <td>25538</td>\n",
       "      <td>2288.6121</td>\n",
       "      <td>85229</td>\n",
       "      <td>0</td>\n",
       "      <td>0</td>\n",
       "      <td>...</td>\n",
       "      <td>1</td>\n",
       "      <td>1</td>\n",
       "      <td>8272</td>\n",
       "      <td>1</td>\n",
       "      <td>0</td>\n",
       "      <td>1</td>\n",
       "      <td>2</td>\n",
       "      <td>50</td>\n",
       "      <td>659</td>\n",
       "      <td>59</td>\n",
       "    </tr>\n",
       "    <tr>\n",
       "      <th>15185156</th>\n",
       "      <td>2014-10-30 13:58:32</td>\n",
       "      <td>2</td>\n",
       "      <td>3</td>\n",
       "      <td>66</td>\n",
       "      <td>294</td>\n",
       "      <td>40046</td>\n",
       "      <td>587.6970</td>\n",
       "      <td>755217</td>\n",
       "      <td>0</td>\n",
       "      <td>1</td>\n",
       "      <td>...</td>\n",
       "      <td>0</td>\n",
       "      <td>1</td>\n",
       "      <td>11321</td>\n",
       "      <td>1</td>\n",
       "      <td>0</td>\n",
       "      <td>1</td>\n",
       "      <td>2</td>\n",
       "      <td>50</td>\n",
       "      <td>642</td>\n",
       "      <td>22</td>\n",
       "    </tr>\n",
       "    <tr>\n",
       "      <th>3301948</th>\n",
       "      <td>2014-08-22 20:14:34</td>\n",
       "      <td>2</td>\n",
       "      <td>3</td>\n",
       "      <td>66</td>\n",
       "      <td>332</td>\n",
       "      <td>55121</td>\n",
       "      <td>2234.4394</td>\n",
       "      <td>160733</td>\n",
       "      <td>0</td>\n",
       "      <td>1</td>\n",
       "      <td>...</td>\n",
       "      <td>0</td>\n",
       "      <td>1</td>\n",
       "      <td>1152</td>\n",
       "      <td>1</td>\n",
       "      <td>1</td>\n",
       "      <td>1</td>\n",
       "      <td>4</td>\n",
       "      <td>47</td>\n",
       "      <td>1502</td>\n",
       "      <td>65</td>\n",
       "    </tr>\n",
       "    <tr>\n",
       "      <th>25429119</th>\n",
       "      <td>2014-03-25 18:47:43</td>\n",
       "      <td>2</td>\n",
       "      <td>3</td>\n",
       "      <td>66</td>\n",
       "      <td>314</td>\n",
       "      <td>47869</td>\n",
       "      <td>839.0087</td>\n",
       "      <td>1078493</td>\n",
       "      <td>0</td>\n",
       "      <td>0</td>\n",
       "      <td>...</td>\n",
       "      <td>0</td>\n",
       "      <td>1</td>\n",
       "      <td>8284</td>\n",
       "      <td>1</td>\n",
       "      <td>0</td>\n",
       "      <td>4</td>\n",
       "      <td>2</td>\n",
       "      <td>50</td>\n",
       "      <td>685</td>\n",
       "      <td>6</td>\n",
       "    </tr>\n",
       "  </tbody>\n",
       "</table>\n",
       "<p>5 rows × 24 columns</p>\n",
       "</div>"
      ],
      "text/plain": [
       "                    date_time  site_name  posa_continent  \\\n",
       "32352134  2014-05-22 11:40:07          2               3   \n",
       "29796021  2013-06-29 12:24:37          2               3   \n",
       "15185156  2014-10-30 13:58:32          2               3   \n",
       "3301948   2014-08-22 20:14:34          2               3   \n",
       "25429119  2014-03-25 18:47:43          2               3   \n",
       "\n",
       "          user_location_country  user_location_region  user_location_city  \\\n",
       "32352134                     66                   174               24103   \n",
       "29796021                     66                   311               25538   \n",
       "15185156                     66                   294               40046   \n",
       "3301948                      66                   332               55121   \n",
       "25429119                     66                   314               47869   \n",
       "\n",
       "          orig_destination_distance  user_id  is_mobile  is_package  ...  \\\n",
       "32352134                  2323.5232   802499          0           1  ...   \n",
       "29796021                  2288.6121    85229          0           0  ...   \n",
       "15185156                   587.6970   755217          0           1  ...   \n",
       "3301948                   2234.4394   160733          0           1  ...   \n",
       "25429119                   839.0087  1078493          0           0  ...   \n",
       "\n",
       "          srch_children_cnt srch_rm_cnt srch_destination_id  \\\n",
       "32352134                  0           1                1442   \n",
       "29796021                  1           1                8272   \n",
       "15185156                  0           1               11321   \n",
       "3301948                   0           1                1152   \n",
       "25429119                  0           1                8284   \n",
       "\n",
       "          srch_destination_type_id  is_booking  cnt  hotel_continent  \\\n",
       "32352134                         3           0    1                4   \n",
       "29796021                         1           0    1                2   \n",
       "15185156                         1           0    1                2   \n",
       "3301948                          1           1    1                4   \n",
       "25429119                         1           0    4                2   \n",
       "\n",
       "          hotel_country  hotel_market  hotel_cluster  \n",
       "32352134            125           177             44  \n",
       "29796021             50           659             59  \n",
       "15185156             50           642             22  \n",
       "3301948              47          1502             65  \n",
       "25429119             50           685              6  \n",
       "\n",
       "[5 rows x 24 columns]"
      ]
     },
     "execution_count": 7,
     "metadata": {},
     "output_type": "execute_result"
    }
   ],
   "source": [
    "df.head()"
   ]
  },
  {
   "cell_type": "code",
   "execution_count": 10,
   "id": "70f5f431-4bda-4ff4-a202-eb67cd45686e",
   "metadata": {},
   "outputs": [
    {
     "data": {
      "text/plain": [
       "date_time                    0\n",
       "site_name                    0\n",
       "posa_continent               0\n",
       "user_location_country        0\n",
       "user_location_region         0\n",
       "user_location_city           0\n",
       "orig_destination_distance    0\n",
       "user_id                      0\n",
       "is_mobile                    0\n",
       "is_package                   0\n",
       "channel                      0\n",
       "srch_ci                      0\n",
       "srch_co                      0\n",
       "srch_adults_cnt              0\n",
       "srch_children_cnt            0\n",
       "srch_rm_cnt                  0\n",
       "srch_destination_id          0\n",
       "srch_destination_type_id     0\n",
       "is_booking                   0\n",
       "cnt                          0\n",
       "hotel_continent              0\n",
       "hotel_country                0\n",
       "hotel_market                 0\n",
       "hotel_cluster                0\n",
       "dtype: int64"
      ]
     },
     "execution_count": 10,
     "metadata": {},
     "output_type": "execute_result"
    }
   ],
   "source": [
    "# check for null values\n",
    "df.isnull().sum()"
   ]
  },
  {
   "cell_type": "code",
   "execution_count": 20,
   "id": "4b44c5c5-355e-4498-9f97-65fdfd0fcea4",
   "metadata": {},
   "outputs": [
    {
     "data": {
      "text/plain": [
       "<seaborn.axisgrid.FacetGrid at 0x7f99a2f70e48>"
      ]
     },
     "execution_count": 20,
     "metadata": {},
     "output_type": "execute_result"
    },
    {
     "data": {
      "text/plain": [
       "<Figure size 864x432 with 0 Axes>"
      ]
     },
     "metadata": {},
     "output_type": "display_data"
    },
    {
     "data": {
      "image/png": "[encoded data removed]",
      "text/plain": [
       "<Figure size 360x360 with 1 Axes>"
      ]
     },
     "metadata": {
      "needs_background": "light"
     },
     "output_type": "display_data"
    }
   ],
   "source": [
    "plt.figure(figsize=(12, 6))\n",
    "sns.displot(df['hotel_cluster'])"
   ]
  },
  {
   "cell_type": "code",
   "execution_count": 16,
   "id": "23c8e2ab-e5c9-4217-848b-7882886f225b",
   "metadata": {},
   "outputs": [
    {
     "data": {
      "image/png": "[encoded data removed]",
      "text/plain": [
       "<Figure size 1080x1800 with 1 Axes>"
      ]
     },
     "metadata": {
      "needs_background": "light"
     },
     "output_type": "display_data"
    }
   ],
   "source": [
    "\n",
    "f, ax = plt.subplots(figsize=(15, 25))\n",
    "sns.countplot(y='hotel_country', data=df)\n",
    "plt.title('Search of hotels per country')\n",
    "plt.show()"
   ]
  },
  {
   "cell_type": "code",
   "execution_count": 21,
   "id": "6a9dadcb-5fd5-43c3-98e3-7ac765449749",
   "metadata": {},
   "outputs": [
    {
     "data": {
      "text/html": [
       "<div>\n",
       "<style scoped>\n",
       "    .dataframe tbody tr th:only-of-type {\n",
       "        vertical-align: middle;\n",
       "    }\n",
       "\n",
       "    .dataframe tbody tr th {\n",
       "        vertical-align: top;\n",
       "    }\n",
       "\n",
       "    .dataframe thead th {\n",
       "        text-align: right;\n",
       "    }\n",
       "</style>\n",
       "<table border=\"1\" class=\"dataframe\">\n",
       "  <thead>\n",
       "    <tr style=\"text-align: right;\">\n",
       "      <th></th>\n",
       "      <th>date_time</th>\n",
       "      <th>site_name</th>\n",
       "      <th>posa_continent</th>\n",
       "      <th>user_location_country</th>\n",
       "      <th>user_location_region</th>\n",
       "      <th>user_location_city</th>\n",
       "      <th>orig_destination_distance</th>\n",
       "      <th>user_id</th>\n",
       "      <th>is_mobile</th>\n",
       "      <th>is_package</th>\n",
       "      <th>...</th>\n",
       "      <th>srch_adults_cnt</th>\n",
       "      <th>srch_children_cnt</th>\n",
       "      <th>srch_rm_cnt</th>\n",
       "      <th>srch_destination_id</th>\n",
       "      <th>srch_destination_type_id</th>\n",
       "      <th>is_booking</th>\n",
       "      <th>cnt</th>\n",
       "      <th>hotel_country</th>\n",
       "      <th>hotel_market</th>\n",
       "      <th>hotel_cluster</th>\n",
       "    </tr>\n",
       "    <tr>\n",
       "      <th>hotel_continent</th>\n",
       "      <th></th>\n",
       "      <th></th>\n",
       "      <th></th>\n",
       "      <th></th>\n",
       "      <th></th>\n",
       "      <th></th>\n",
       "      <th></th>\n",
       "      <th></th>\n",
       "      <th></th>\n",
       "      <th></th>\n",
       "      <th></th>\n",
       "      <th></th>\n",
       "      <th></th>\n",
       "      <th></th>\n",
       "      <th></th>\n",
       "      <th></th>\n",
       "      <th></th>\n",
       "      <th></th>\n",
       "      <th></th>\n",
       "      <th></th>\n",
       "      <th></th>\n",
       "    </tr>\n",
       "  </thead>\n",
       "  <tbody>\n",
       "    <tr>\n",
       "      <th>5</th>\n",
       "      <td>1211</td>\n",
       "      <td>1211</td>\n",
       "      <td>1211</td>\n",
       "      <td>1211</td>\n",
       "      <td>1211</td>\n",
       "      <td>1211</td>\n",
       "      <td>1211</td>\n",
       "      <td>1211</td>\n",
       "      <td>1211</td>\n",
       "      <td>1211</td>\n",
       "      <td>...</td>\n",
       "      <td>1211</td>\n",
       "      <td>1211</td>\n",
       "      <td>1211</td>\n",
       "      <td>1211</td>\n",
       "      <td>1211</td>\n",
       "      <td>1211</td>\n",
       "      <td>1211</td>\n",
       "      <td>1211</td>\n",
       "      <td>1211</td>\n",
       "      <td>1211</td>\n",
       "    </tr>\n",
       "    <tr>\n",
       "      <th>0</th>\n",
       "      <td>3748</td>\n",
       "      <td>3748</td>\n",
       "      <td>3748</td>\n",
       "      <td>3748</td>\n",
       "      <td>3748</td>\n",
       "      <td>3748</td>\n",
       "      <td>3748</td>\n",
       "      <td>3748</td>\n",
       "      <td>3748</td>\n",
       "      <td>3748</td>\n",
       "      <td>...</td>\n",
       "      <td>3748</td>\n",
       "      <td>3748</td>\n",
       "      <td>3748</td>\n",
       "      <td>3748</td>\n",
       "      <td>3748</td>\n",
       "      <td>3748</td>\n",
       "      <td>3748</td>\n",
       "      <td>3748</td>\n",
       "      <td>3748</td>\n",
       "      <td>3748</td>\n",
       "    </tr>\n",
       "    <tr>\n",
       "      <th>3</th>\n",
       "      <td>13781</td>\n",
       "      <td>13781</td>\n",
       "      <td>13781</td>\n",
       "      <td>13781</td>\n",
       "      <td>13781</td>\n",
       "      <td>13781</td>\n",
       "      <td>13781</td>\n",
       "      <td>13781</td>\n",
       "      <td>13781</td>\n",
       "      <td>13781</td>\n",
       "      <td>...</td>\n",
       "      <td>13781</td>\n",
       "      <td>13781</td>\n",
       "      <td>13781</td>\n",
       "      <td>13781</td>\n",
       "      <td>13781</td>\n",
       "      <td>13781</td>\n",
       "      <td>13781</td>\n",
       "      <td>13781</td>\n",
       "      <td>13781</td>\n",
       "      <td>13781</td>\n",
       "    </tr>\n",
       "    <tr>\n",
       "      <th>4</th>\n",
       "      <td>32110</td>\n",
       "      <td>32110</td>\n",
       "      <td>32110</td>\n",
       "      <td>32110</td>\n",
       "      <td>32110</td>\n",
       "      <td>32110</td>\n",
       "      <td>32110</td>\n",
       "      <td>32110</td>\n",
       "      <td>32110</td>\n",
       "      <td>32110</td>\n",
       "      <td>...</td>\n",
       "      <td>32110</td>\n",
       "      <td>32110</td>\n",
       "      <td>32110</td>\n",
       "      <td>32110</td>\n",
       "      <td>32110</td>\n",
       "      <td>32110</td>\n",
       "      <td>32110</td>\n",
       "      <td>32110</td>\n",
       "      <td>32110</td>\n",
       "      <td>32110</td>\n",
       "    </tr>\n",
       "    <tr>\n",
       "      <th>6</th>\n",
       "      <td>35398</td>\n",
       "      <td>35398</td>\n",
       "      <td>35398</td>\n",
       "      <td>35398</td>\n",
       "      <td>35398</td>\n",
       "      <td>35398</td>\n",
       "      <td>35398</td>\n",
       "      <td>35398</td>\n",
       "      <td>35398</td>\n",
       "      <td>35398</td>\n",
       "      <td>...</td>\n",
       "      <td>35398</td>\n",
       "      <td>35398</td>\n",
       "      <td>35398</td>\n",
       "      <td>35398</td>\n",
       "      <td>35398</td>\n",
       "      <td>35398</td>\n",
       "      <td>35398</td>\n",
       "      <td>35398</td>\n",
       "      <td>35398</td>\n",
       "      <td>35398</td>\n",
       "    </tr>\n",
       "    <tr>\n",
       "      <th>2</th>\n",
       "      <td>154931</td>\n",
       "      <td>154931</td>\n",
       "      <td>154931</td>\n",
       "      <td>154931</td>\n",
       "      <td>154931</td>\n",
       "      <td>154931</td>\n",
       "      <td>154931</td>\n",
       "      <td>154931</td>\n",
       "      <td>154931</td>\n",
       "      <td>154931</td>\n",
       "      <td>...</td>\n",
       "      <td>154931</td>\n",
       "      <td>154931</td>\n",
       "      <td>154931</td>\n",
       "      <td>154931</td>\n",
       "      <td>154931</td>\n",
       "      <td>154931</td>\n",
       "      <td>154931</td>\n",
       "      <td>154931</td>\n",
       "      <td>154931</td>\n",
       "      <td>154931</td>\n",
       "    </tr>\n",
       "  </tbody>\n",
       "</table>\n",
       "<p>6 rows × 23 columns</p>\n",
       "</div>"
      ],
      "text/plain": [
       "                 date_time  site_name  posa_continent  user_location_country  \\\n",
       "hotel_continent                                                                \n",
       "5                     1211       1211            1211                   1211   \n",
       "0                     3748       3748            3748                   3748   \n",
       "3                    13781      13781           13781                  13781   \n",
       "4                    32110      32110           32110                  32110   \n",
       "6                    35398      35398           35398                  35398   \n",
       "2                   154931     154931          154931                 154931   \n",
       "\n",
       "                 user_location_region  user_location_city  \\\n",
       "hotel_continent                                             \n",
       "5                                1211                1211   \n",
       "0                                3748                3748   \n",
       "3                               13781               13781   \n",
       "4                               32110               32110   \n",
       "6                               35398               35398   \n",
       "2                              154931              154931   \n",
       "\n",
       "                 orig_destination_distance  user_id  is_mobile  is_package  \\\n",
       "hotel_continent                                                              \n",
       "5                                     1211     1211       1211        1211   \n",
       "0                                     3748     3748       3748        3748   \n",
       "3                                    13781    13781      13781       13781   \n",
       "4                                    32110    32110      32110       32110   \n",
       "6                                    35398    35398      35398       35398   \n",
       "2                                   154931   154931     154931      154931   \n",
       "\n",
       "                 ...  srch_adults_cnt  srch_children_cnt  srch_rm_cnt  \\\n",
       "hotel_continent  ...                                                    \n",
       "5                ...             1211               1211         1211   \n",
       "0                ...             3748               3748         3748   \n",
       "3                ...            13781              13781        13781   \n",
       "4                ...            32110              32110        32110   \n",
       "6                ...            35398              35398        35398   \n",
       "2                ...           154931             154931       154931   \n",
       "\n",
       "                 srch_destination_id  srch_destination_type_id  is_booking  \\\n",
       "hotel_continent                                                              \n",
       "5                               1211                      1211        1211   \n",
       "0                               3748                      3748        3748   \n",
       "3                              13781                     13781       13781   \n",
       "4                              32110                     32110       32110   \n",
       "6                              35398                     35398       35398   \n",
       "2                             154931                    154931      154931   \n",
       "\n",
       "                    cnt  hotel_country  hotel_market  hotel_cluster  \n",
       "hotel_continent                                                      \n",
       "5                  1211           1211          1211           1211  \n",
       "0                  3748           3748          3748           3748  \n",
       "3                 13781          13781         13781          13781  \n",
       "4                 32110          32110         32110          32110  \n",
       "6                 35398          35398         35398          35398  \n",
       "2                154931         154931        154931         154931  \n",
       "\n",
       "[6 rows x 23 columns]"
      ]
     },
     "execution_count": 21,
     "metadata": {},
     "output_type": "execute_result"
    }
   ],
   "source": [
    "df.groupby('hotel_continent').count().sort_values(by='hotel_country')"
   ]
  },
  {
   "cell_type": "code",
   "execution_count": 3,
   "id": "3d5045fc-e604-4576-a67a-fb1138940a67",
   "metadata": {},
   "outputs": [],
   "source": [
    "# function to handle date\n",
    "def convert_date_into_days(df):\n",
    "    df['srch_ci'] = pd.to_datetime(df['srch_ci'])\n",
    "    df['srch_co'] = pd.to_datetime(df['srch_co'])\n",
    "    df['date_time'] = pd.to_datetime(df['date_time'])\n",
    "    \n",
    "    #create stay duration\n",
    "    df['stay_dur'] = (df['srch_co'] - df['srch_ci']).astype('timedelta64[D]')\n",
    "    \n",
    "    #get number of days between booking\n",
    "    df['no_of_days_bet_booking'] = (df['srch_ci'] - df['date_time']).astype('timedelta64[D]')\n",
    "    \n",
    "    #check in data (check out is redundant with stay duration)\n",
    "    df['cin_day'] = df[\"srch_ci\"].apply(lambda x: x.day)\n",
    "    df['cin_month'] = df[\"srch_ci\"].apply(lambda x: x.month)\n",
    "    df['cin_year'] = df[\"srch_ci\"].apply(lambda x: x.year)"
   ]
  },
  {
   "cell_type": "code",
   "execution_count": 4,
   "id": "7f7976b5-fc6a-419e-9258-bc3c8e0d44ca",
   "metadata": {},
   "outputs": [],
   "source": [
    "convert_date_into_days(df)"
   ]
  },
  {
   "cell_type": "code",
   "execution_count": 25,
   "id": "11754142-f350-4e4a-b081-f2a478f9ad05",
   "metadata": {},
   "outputs": [
    {
     "data": {
      "text/plain": [
       "<bound method DataFrame.info of                    date_time  site_name  posa_continent  \\\n",
       "32352134 2014-05-22 11:40:07          2               3   \n",
       "29796021 2013-06-29 12:24:37          2               3   \n",
       "15185156 2014-10-30 13:58:32          2               3   \n",
       "3301948  2014-08-22 20:14:34          2               3   \n",
       "25429119 2014-03-25 18:47:43          2               3   \n",
       "...                      ...        ...             ...   \n",
       "6109142  2013-08-13 03:02:28         13               1   \n",
       "4062281  2014-01-27 06:20:45          2               3   \n",
       "19011568 2014-11-09 21:29:47          2               3   \n",
       "4430186  2013-03-02 12:26:34          2               3   \n",
       "7170402  2013-08-04 08:44:59          2               3   \n",
       "\n",
       "          user_location_country  user_location_region  user_location_city  \\\n",
       "32352134                     66                   174               24103   \n",
       "29796021                     66                   311               25538   \n",
       "15185156                     66                   294               40046   \n",
       "3301948                      66                   332               55121   \n",
       "25429119                     66                   314               47869   \n",
       "...                         ...                   ...                 ...   \n",
       "6109142                      66                   318               51313   \n",
       "4062281                      66                   337               53976   \n",
       "19011568                     66                   448               45508   \n",
       "4430186                      63                   229               36471   \n",
       "7170402                      66                   363                2495   \n",
       "\n",
       "          orig_destination_distance  user_id  is_mobile  is_package  ...  cnt  \\\n",
       "32352134                  2323.5232   802499          0           1  ...    1   \n",
       "29796021                  2288.6121    85229          0           0  ...    1   \n",
       "15185156                   587.6970   755217          0           1  ...    1   \n",
       "3301948                   2234.4394   160733          0           1  ...    1   \n",
       "25429119                   839.0087  1078493          0           0  ...    4   \n",
       "...                             ...      ...        ...         ...  ...  ...   \n",
       "6109142                    236.2903   218966          0           0  ...    1   \n",
       "4062281                    943.8470   922506          0           1  ...    2   \n",
       "19011568                  1880.3984  1108469          1           0  ...    2   \n",
       "4430186                   3055.5696   651911          0           0  ...    1   \n",
       "7170402                   6609.6307   627218          1           1  ...    8   \n",
       "\n",
       "         hotel_continent hotel_country  hotel_market  hotel_cluster  stay_dur  \\\n",
       "32352134               4           125           177             44       0.0   \n",
       "29796021               2            50           659             59       4.0   \n",
       "15185156               2            50           642             22       3.0   \n",
       "3301948                4            47          1502             65       7.0   \n",
       "25429119               2            50           685              6       3.0   \n",
       "...                  ...           ...           ...            ...       ...   \n",
       "6109142                2            50           637             95       3.0   \n",
       "4062281                2            50           682             71       6.0   \n",
       "19011568               4             8           121             18       2.0   \n",
       "4430186                3            48           153             46       8.0   \n",
       "7170402                3           106           107             15       6.0   \n",
       "\n",
       "          no_of_days_bet_booking  Cin_day  Cin_month  Cin_year  \n",
       "32352134                    62.0       24          7      2014  \n",
       "29796021                     5.0        5          7      2013  \n",
       "15185156                    49.0       19         12      2014  \n",
       "3301948                    153.0       23          1      2015  \n",
       "25429119                    22.0       17          4      2014  \n",
       "...                          ...      ...        ...       ...  \n",
       "6109142                      1.0       15          8      2013  \n",
       "4062281                     71.0        9          4      2014  \n",
       "19011568                    16.0       26         11      2014  \n",
       "4430186                     26.0       29          3      2013  \n",
       "7170402                     28.0        2          9      2013  \n",
       "\n",
       "[241179 rows x 29 columns]>"
      ]
     },
     "execution_count": 25,
     "metadata": {},
     "output_type": "execute_result"
    }
   ],
   "source": [
    "df.info"
   ]
  },
  {
   "cell_type": "code",
   "execution_count": 5,
   "id": "2f28714a-4a54-418b-9f25-473a42203185",
   "metadata": {},
   "outputs": [
    {
     "name": "stderr",
     "output_type": "stream",
     "text": [
      "/Users/ericdickey/opt/anaconda3/envs/py36/lib/python3.6/site-packages/seaborn/_decorators.py:43: FutureWarning: Pass the following variable as a keyword arg: x. From version 0.12, the only valid positional argument will be `data`, and passing other arguments without an explicit keyword will result in an error or misinterpretation.\n",
      "  FutureWarning\n"
     ]
    },
    {
     "data": {
      "text/plain": [
       "<matplotlib.axes._subplots.AxesSubplot at 0x7ff93f43fcf8>"
      ]
     },
     "execution_count": 5,
     "metadata": {},
     "output_type": "execute_result"
    },
    {
     "data": {
      "image/png": "[encoded data removed]",
      "text/plain": [
       "<Figure size 936x576 with 1 Axes>"
      ]
     },
     "metadata": {
      "needs_background": "light"
     },
     "output_type": "display_data"
    }
   ],
   "source": [
    "#dist of month booked\n",
    "fig, ax = plt.subplots()\n",
    "fig.set_size_inches(13, 8)\n",
    "sns.countplot('cin_month',data=df[df[\"is_booking\"] == 1],order=list(range(1,13)),ax=ax)"
   ]
  },
  {
   "cell_type": "code",
   "execution_count": 6,
   "id": "12a806e4-6ffa-4854-ab55-b02c388184e8",
   "metadata": {},
   "outputs": [
    {
     "name": "stderr",
     "output_type": "stream",
     "text": [
      "/Users/ericdickey/opt/anaconda3/envs/py36/lib/python3.6/site-packages/seaborn/_decorators.py:43: FutureWarning: Pass the following variable as a keyword arg: x. From version 0.12, the only valid positional argument will be `data`, and passing other arguments without an explicit keyword will result in an error or misinterpretation.\n",
      "  FutureWarning\n"
     ]
    },
    {
     "data": {
      "text/plain": [
       "<matplotlib.axes._subplots.AxesSubplot at 0x7ffbe0fc1b00>"
      ]
     },
     "execution_count": 6,
     "metadata": {},
     "output_type": "execute_result"
    },
    {
     "data": {
      "image/png": "[encoded data removed]",
      "text/plain": [
       "<Figure size 936x576 with 1 Axes>"
      ]
     },
     "metadata": {
      "needs_background": "light"
     },
     "output_type": "display_data"
    }
   ],
   "source": [
    "#dist of day booked\n",
    "fig, ax = plt.subplots()\n",
    "fig.set_size_inches(13, 8)\n",
    "sns.countplot('cin_day',data=df[df[\"is_booking\"] == 1],order=list(range(1,32)),ax=ax)"
   ]
  },
  {
   "cell_type": "code",
   "execution_count": 7,
   "id": "a58a64de-73b8-4207-b877-507d04a98056",
   "metadata": {},
   "outputs": [],
   "source": [
    "# drop columns that are redundant or not used\n",
    "column_drops=['date_time','srch_ci','srch_co','user_id']\n",
    "df=df.drop(columns=column_drops)\n"
   ]
  },
  {
   "cell_type": "code",
   "execution_count": 8,
   "id": "46a32268-5ee7-4313-b8d1-78703d109207",
   "metadata": {},
   "outputs": [],
   "source": [
    "# only look at bookings\n",
    "df = df.loc[df['is_booking'] == 1]"
   ]
  },
  {
   "cell_type": "code",
   "execution_count": 9,
   "id": "69c6dd31-8731-47af-8259-bfaab047ec94",
   "metadata": {},
   "outputs": [
    {
     "data": {
      "text/plain": [
       "site_name                   -0.018841\n",
       "posa_continent               0.008707\n",
       "user_location_country       -0.023580\n",
       "user_location_region         0.015222\n",
       "user_location_city           0.003102\n",
       "orig_destination_distance    0.016554\n",
       "is_mobile                   -0.002581\n",
       "is_package                   0.031493\n",
       "channel                      0.002360\n",
       "srch_adults_cnt              0.010455\n",
       "srch_children_cnt            0.016707\n",
       "srch_rm_cnt                 -0.010043\n",
       "srch_destination_id         -0.017470\n",
       "srch_destination_type_id    -0.022760\n",
       "is_booking                        NaN\n",
       "cnt                         -0.003122\n",
       "hotel_continent              0.002693\n",
       "hotel_country               -0.015262\n",
       "hotel_market                 0.020291\n",
       "hotel_cluster                1.000000\n",
       "stay_dur                     0.041831\n",
       "no_of_days_bet_booking       0.024813\n",
       "cin_day                      0.002112\n",
       "cin_month                   -0.011642\n",
       "cin_year                     0.004297\n",
       "Name: hotel_cluster, dtype: float64"
      ]
     },
     "execution_count": 9,
     "metadata": {},
     "output_type": "execute_result"
    }
   ],
   "source": [
    "#check correlation\n",
    "df.corr()[\"hotel_cluster\"]\n"
   ]
  },
  {
   "cell_type": "code",
   "execution_count": 10,
   "id": "d2e8b9e2-eef4-461d-a00e-fca823239a2f",
   "metadata": {},
   "outputs": [],
   "source": [
    "#train test split\n",
    "\n",
    "y=df['hotel_cluster']\n",
    "x=df.drop(columns='hotel_cluster')\n",
    "\n",
    "from sklearn.model_selection import train_test_split\n",
    "X_train, X_test, y_train, y_test=train_test_split(x,y,test_size=.3,random_state=10)"
   ]
  },
  {
   "cell_type": "code",
   "execution_count": 11,
   "id": "c2e601d1-411c-470c-b40f-28ceba678e16",
   "metadata": {},
   "outputs": [],
   "source": [
    "#Random Forest\n",
    "\n",
    "from sklearn.ensemble import RandomForestClassifier\n",
    "\n",
    "rf_model=RandomForestClassifier()\n",
    "rf_model.fit(X_train,y_train)\n",
    "y_pred_rf=rf_model.predict(X_test)"
   ]
  },
  {
   "cell_type": "code",
   "execution_count": 12,
   "id": "e9902f83-9d4b-4d77-8051-6f9af43e2625",
   "metadata": {},
   "outputs": [
    {
     "name": "stdout",
     "output_type": "stream",
     "text": [
      "0.04\n",
      "0.045\n",
      "0.073\n",
      "0.074\n",
      "0.086\n",
      "0.087\n",
      "0.088\n",
      "0.091\n",
      "0.093\n",
      "0.101\n",
      "['channel', 'stay_dur', 'user_location_region', 'cin_month', 'cin_day', 'no_of_days_bet_booking', 'hotel_market', 'srch_destination_id', 'user_location_city', 'orig_destination_distance']\n"
     ]
    }
   ],
   "source": [
    "#most important features\n",
    "\n",
    "most_important=rf_model.feature_importances_\n",
    "index_list=sorted(range(len(rf_model.feature_importances_)),\n",
    "                  key=lambda i: rf_model.feature_importances_[i])[-10:]\n",
    "imp_features=list(x.columns[index_list])\n",
    "\n",
    "for i in index_list:\n",
    "    print (round(rf_model.feature_importances_[i],3))\n",
    "print(imp_features)"
   ]
  },
  {
   "cell_type": "code",
   "execution_count": 13,
   "id": "ab057144-1ace-420e-80f0-edd9b70cb6c2",
   "metadata": {},
   "outputs": [
    {
     "name": "stdout",
     "output_type": "stream",
     "text": [
      "Accuracy Score:  0.09317803660565724\n",
      "Mean^2 Error:  1694.3662229617305\n"
     ]
    }
   ],
   "source": [
    "#check accuracy of RF\n",
    "\n",
    "from sklearn import metrics\n",
    "from sklearn.metrics import mean_squared_error\n",
    "print(\"Accuracy Score: \", metrics.accuracy_score(y_test,y_pred_rf))\n",
    "print(\"Mean^2 Error: \", metrics.mean_squared_error(y_test,y_pred_rf))"
   ]
  },
  {
   "cell_type": "code",
   "execution_count": 14,
   "id": "04a3b07f-2b9e-4377-999b-c417ea4f71ed",
   "metadata": {},
   "outputs": [],
   "source": [
    "#Decision tree\n",
    "from sklearn.tree import DecisionTreeClassifier\n",
    "dt_model=DecisionTreeClassifier()\n",
    "dt_model.fit(X_train,y_train)\n",
    "y_pred_dt=dt_model.predict(X_test)"
   ]
  },
  {
   "cell_type": "code",
   "execution_count": 15,
   "id": "bd309c1c-7caf-4888-8e93-d19a0adfb172",
   "metadata": {},
   "outputs": [
    {
     "name": "stdout",
     "output_type": "stream",
     "text": [
      "0.041\n",
      "0.05\n",
      "0.066\n",
      "0.072\n",
      "0.082\n",
      "0.083\n",
      "0.097\n",
      "0.098\n",
      "0.101\n",
      "0.114\n",
      "['channel', 'stay_dur', 'hotel_market', 'user_location_region', 'cin_month', 'srch_destination_id', 'no_of_days_bet_booking', 'cin_day', 'user_location_city', 'orig_destination_distance']\n"
     ]
    }
   ],
   "source": [
    "#most important features\n",
    "\n",
    "most_important=dt_model.feature_importances_\n",
    "index_list=sorted(range(len(dt_model.feature_importances_)),\n",
    "                  key=lambda i: dt_model.feature_importances_[i])[-10:]\n",
    "imp_features=list(x.columns[index_list])\n",
    "\n",
    "for i in index_list:\n",
    "    print (round(dt_model.feature_importances_[i],3))\n",
    "print(imp_features)"
   ]
  },
  {
   "cell_type": "code",
   "execution_count": 16,
   "id": "3097f730-a456-4cf1-9fa3-b15809271323",
   "metadata": {},
   "outputs": [
    {
     "name": "stdout",
     "output_type": "stream",
     "text": [
      "Accuracy Score:  0.06306156405990017\n",
      "Mean^2 Error:  1655.1542429284525\n"
     ]
    }
   ],
   "source": [
    "#check accuracy of DT\n",
    "\n",
    "from sklearn import metrics\n",
    "from sklearn.metrics import mean_squared_error\n",
    "print(\"Accuracy Score: \", metrics.accuracy_score(y_test,y_pred_dt))\n",
    "print(\"Mean^2 Error: \", metrics.mean_squared_error(y_test,y_pred_dt))"
   ]
  },
  {
   "cell_type": "markdown",
   "id": "9e83becd-8468-4f21-9763-1c07ec377814",
   "metadata": {},
   "source": [
    "# #2 Model Method"
   ]
  },
  {
   "cell_type": "code",
   "execution_count": 17,
   "id": "23fd324d-998a-405c-8dea-c28fe9f43788",
   "metadata": {},
   "outputs": [
    {
     "data": {
      "text/html": [
       "<div>\n",
       "<style scoped>\n",
       "    .dataframe tbody tr th:only-of-type {\n",
       "        vertical-align: middle;\n",
       "    }\n",
       "\n",
       "    .dataframe tbody tr th {\n",
       "        vertical-align: top;\n",
       "    }\n",
       "\n",
       "    .dataframe thead th {\n",
       "        text-align: right;\n",
       "    }\n",
       "</style>\n",
       "<table border=\"1\" class=\"dataframe\">\n",
       "  <thead>\n",
       "    <tr style=\"text-align: right;\">\n",
       "      <th></th>\n",
       "      <th></th>\n",
       "      <th></th>\n",
       "      <th></th>\n",
       "      <th>sum</th>\n",
       "      <th>count</th>\n",
       "    </tr>\n",
       "    <tr>\n",
       "      <th>srch_destination_id</th>\n",
       "      <th>hotel_country</th>\n",
       "      <th>hotel_market</th>\n",
       "      <th>hotel_cluster</th>\n",
       "      <th></th>\n",
       "      <th></th>\n",
       "    </tr>\n",
       "  </thead>\n",
       "  <tbody>\n",
       "    <tr>\n",
       "      <th>4</th>\n",
       "      <th>7</th>\n",
       "      <th>246</th>\n",
       "      <th>32</th>\n",
       "      <td>1</td>\n",
       "      <td>1</td>\n",
       "    </tr>\n",
       "    <tr>\n",
       "      <th rowspan=\"4\" valign=\"top\">8</th>\n",
       "      <th rowspan=\"4\" valign=\"top\">50</th>\n",
       "      <th rowspan=\"4\" valign=\"top\">416</th>\n",
       "      <th>7</th>\n",
       "      <td>2</td>\n",
       "      <td>2</td>\n",
       "    </tr>\n",
       "    <tr>\n",
       "      <th>42</th>\n",
       "      <td>1</td>\n",
       "      <td>1</td>\n",
       "    </tr>\n",
       "    <tr>\n",
       "      <th>43</th>\n",
       "      <td>1</td>\n",
       "      <td>1</td>\n",
       "    </tr>\n",
       "    <tr>\n",
       "      <th>48</th>\n",
       "      <td>3</td>\n",
       "      <td>3</td>\n",
       "    </tr>\n",
       "  </tbody>\n",
       "</table>\n",
       "</div>"
      ],
      "text/plain": [
       "                                                              sum  count\n",
       "srch_destination_id hotel_country hotel_market hotel_cluster            \n",
       "4                   7             246          32               1      1\n",
       "8                   50            416          7                2      2\n",
       "                                               42               1      1\n",
       "                                               43               1      1\n",
       "                                               48               3      3"
      ]
     },
     "execution_count": 17,
     "metadata": {},
     "output_type": "execute_result"
    }
   ],
   "source": [
    "slices = [df.groupby(['srch_destination_id','hotel_country','hotel_market',\n",
    "                      'hotel_cluster'])['is_booking'].agg(['sum','count'])]\n",
    "aggreg = pd.concat(slices).groupby(level=[0,1,2,3]).sum()\n",
    "aggreg.dropna(inplace=True)\n",
    "aggreg.head()"
   ]
  },
  {
   "cell_type": "code",
   "execution_count": 18,
   "id": "bc4b14b8-3151-43d0-86cf-7960a56650a8",
   "metadata": {},
   "outputs": [
    {
     "data": {
      "text/html": [
       "<div>\n",
       "<style scoped>\n",
       "    .dataframe tbody tr th:only-of-type {\n",
       "        vertical-align: middle;\n",
       "    }\n",
       "\n",
       "    .dataframe tbody tr th {\n",
       "        vertical-align: top;\n",
       "    }\n",
       "\n",
       "    .dataframe thead th {\n",
       "        text-align: right;\n",
       "    }\n",
       "</style>\n",
       "<table border=\"1\" class=\"dataframe\">\n",
       "  <thead>\n",
       "    <tr style=\"text-align: right;\">\n",
       "      <th></th>\n",
       "      <th>srch_destination_id</th>\n",
       "      <th>hotel_country</th>\n",
       "      <th>hotel_market</th>\n",
       "      <th>hotel_cluster</th>\n",
       "      <th>sum</th>\n",
       "      <th>count</th>\n",
       "      <th>sum_and_cnt</th>\n",
       "    </tr>\n",
       "  </thead>\n",
       "  <tbody>\n",
       "    <tr>\n",
       "      <th>0</th>\n",
       "      <td>4</td>\n",
       "      <td>7</td>\n",
       "      <td>246</td>\n",
       "      <td>32</td>\n",
       "      <td>1.000</td>\n",
       "      <td>1.000</td>\n",
       "      <td>1.000</td>\n",
       "    </tr>\n",
       "    <tr>\n",
       "      <th>1</th>\n",
       "      <td>8</td>\n",
       "      <td>50</td>\n",
       "      <td>416</td>\n",
       "      <td>7</td>\n",
       "      <td>0.250</td>\n",
       "      <td>0.250</td>\n",
       "      <td>0.250</td>\n",
       "    </tr>\n",
       "    <tr>\n",
       "      <th>2</th>\n",
       "      <td>8</td>\n",
       "      <td>50</td>\n",
       "      <td>416</td>\n",
       "      <td>42</td>\n",
       "      <td>0.125</td>\n",
       "      <td>0.125</td>\n",
       "      <td>0.125</td>\n",
       "    </tr>\n",
       "    <tr>\n",
       "      <th>3</th>\n",
       "      <td>8</td>\n",
       "      <td>50</td>\n",
       "      <td>416</td>\n",
       "      <td>43</td>\n",
       "      <td>0.125</td>\n",
       "      <td>0.125</td>\n",
       "      <td>0.125</td>\n",
       "    </tr>\n",
       "    <tr>\n",
       "      <th>4</th>\n",
       "      <td>8</td>\n",
       "      <td>50</td>\n",
       "      <td>416</td>\n",
       "      <td>48</td>\n",
       "      <td>0.375</td>\n",
       "      <td>0.375</td>\n",
       "      <td>0.375</td>\n",
       "    </tr>\n",
       "  </tbody>\n",
       "</table>\n",
       "</div>"
      ],
      "text/plain": [
       "   srch_destination_id  hotel_country  hotel_market  hotel_cluster    sum  \\\n",
       "0                    4              7           246             32  1.000   \n",
       "1                    8             50           416              7  0.250   \n",
       "2                    8             50           416             42  0.125   \n",
       "3                    8             50           416             43  0.125   \n",
       "4                    8             50           416             48  0.375   \n",
       "\n",
       "   count  sum_and_cnt  \n",
       "0  1.000        1.000  \n",
       "1  0.250        0.250  \n",
       "2  0.125        0.125  \n",
       "3  0.125        0.125  \n",
       "4  0.375        0.375  "
      ]
     },
     "execution_count": 18,
     "metadata": {},
     "output_type": "execute_result"
    }
   ],
   "source": [
    "aggreg['sum_and_cnt'] = 0.85*aggreg['sum'] + 0.15*aggreg['count']\n",
    "aggreg = aggreg.groupby(level=[0,1,2]).apply(lambda x: x.astype(float)/x.sum())\n",
    "aggreg.reset_index(inplace=True)\n",
    "aggreg.head()"
   ]
  },
  {
   "cell_type": "code",
   "execution_count": 19,
   "id": "f5247daf-540a-41c4-9b5a-189e28741adf",
   "metadata": {},
   "outputs": [
    {
     "data": {
      "text/html": [
       "<div>\n",
       "<style scoped>\n",
       "    .dataframe tbody tr th:only-of-type {\n",
       "        vertical-align: middle;\n",
       "    }\n",
       "\n",
       "    .dataframe tbody tr th {\n",
       "        vertical-align: top;\n",
       "    }\n",
       "\n",
       "    .dataframe thead th {\n",
       "        text-align: right;\n",
       "    }\n",
       "</style>\n",
       "<table border=\"1\" class=\"dataframe\">\n",
       "  <thead>\n",
       "    <tr style=\"text-align: right;\">\n",
       "      <th>hotel_cluster</th>\n",
       "      <th>srch_destination_id</th>\n",
       "      <th>hotel_country</th>\n",
       "      <th>hotel_market</th>\n",
       "      <th>0</th>\n",
       "      <th>1</th>\n",
       "      <th>2</th>\n",
       "      <th>3</th>\n",
       "      <th>4</th>\n",
       "      <th>5</th>\n",
       "      <th>6</th>\n",
       "      <th>...</th>\n",
       "      <th>90</th>\n",
       "      <th>91</th>\n",
       "      <th>92</th>\n",
       "      <th>93</th>\n",
       "      <th>94</th>\n",
       "      <th>95</th>\n",
       "      <th>96</th>\n",
       "      <th>97</th>\n",
       "      <th>98</th>\n",
       "      <th>99</th>\n",
       "    </tr>\n",
       "  </thead>\n",
       "  <tbody>\n",
       "    <tr>\n",
       "      <th>0</th>\n",
       "      <td>4</td>\n",
       "      <td>7</td>\n",
       "      <td>246</td>\n",
       "      <td>NaN</td>\n",
       "      <td>NaN</td>\n",
       "      <td>NaN</td>\n",
       "      <td>NaN</td>\n",
       "      <td>NaN</td>\n",
       "      <td>NaN</td>\n",
       "      <td>NaN</td>\n",
       "      <td>...</td>\n",
       "      <td>NaN</td>\n",
       "      <td>NaN</td>\n",
       "      <td>NaN</td>\n",
       "      <td>NaN</td>\n",
       "      <td>NaN</td>\n",
       "      <td>NaN</td>\n",
       "      <td>NaN</td>\n",
       "      <td>NaN</td>\n",
       "      <td>NaN</td>\n",
       "      <td>NaN</td>\n",
       "    </tr>\n",
       "    <tr>\n",
       "      <th>1</th>\n",
       "      <td>8</td>\n",
       "      <td>50</td>\n",
       "      <td>416</td>\n",
       "      <td>NaN</td>\n",
       "      <td>NaN</td>\n",
       "      <td>NaN</td>\n",
       "      <td>NaN</td>\n",
       "      <td>NaN</td>\n",
       "      <td>NaN</td>\n",
       "      <td>NaN</td>\n",
       "      <td>...</td>\n",
       "      <td>NaN</td>\n",
       "      <td>NaN</td>\n",
       "      <td>NaN</td>\n",
       "      <td>NaN</td>\n",
       "      <td>NaN</td>\n",
       "      <td>NaN</td>\n",
       "      <td>NaN</td>\n",
       "      <td>NaN</td>\n",
       "      <td>NaN</td>\n",
       "      <td>NaN</td>\n",
       "    </tr>\n",
       "    <tr>\n",
       "      <th>2</th>\n",
       "      <td>16</td>\n",
       "      <td>50</td>\n",
       "      <td>419</td>\n",
       "      <td>NaN</td>\n",
       "      <td>NaN</td>\n",
       "      <td>NaN</td>\n",
       "      <td>NaN</td>\n",
       "      <td>NaN</td>\n",
       "      <td>NaN</td>\n",
       "      <td>NaN</td>\n",
       "      <td>...</td>\n",
       "      <td>NaN</td>\n",
       "      <td>0.5</td>\n",
       "      <td>NaN</td>\n",
       "      <td>NaN</td>\n",
       "      <td>NaN</td>\n",
       "      <td>NaN</td>\n",
       "      <td>NaN</td>\n",
       "      <td>NaN</td>\n",
       "      <td>NaN</td>\n",
       "      <td>NaN</td>\n",
       "    </tr>\n",
       "    <tr>\n",
       "      <th>3</th>\n",
       "      <td>21</td>\n",
       "      <td>77</td>\n",
       "      <td>1454</td>\n",
       "      <td>NaN</td>\n",
       "      <td>NaN</td>\n",
       "      <td>NaN</td>\n",
       "      <td>NaN</td>\n",
       "      <td>NaN</td>\n",
       "      <td>NaN</td>\n",
       "      <td>NaN</td>\n",
       "      <td>...</td>\n",
       "      <td>NaN</td>\n",
       "      <td>NaN</td>\n",
       "      <td>NaN</td>\n",
       "      <td>NaN</td>\n",
       "      <td>NaN</td>\n",
       "      <td>NaN</td>\n",
       "      <td>NaN</td>\n",
       "      <td>NaN</td>\n",
       "      <td>NaN</td>\n",
       "      <td>NaN</td>\n",
       "    </tr>\n",
       "    <tr>\n",
       "      <th>4</th>\n",
       "      <td>24</td>\n",
       "      <td>50</td>\n",
       "      <td>606</td>\n",
       "      <td>NaN</td>\n",
       "      <td>NaN</td>\n",
       "      <td>NaN</td>\n",
       "      <td>NaN</td>\n",
       "      <td>NaN</td>\n",
       "      <td>NaN</td>\n",
       "      <td>NaN</td>\n",
       "      <td>...</td>\n",
       "      <td>NaN</td>\n",
       "      <td>0.4</td>\n",
       "      <td>NaN</td>\n",
       "      <td>NaN</td>\n",
       "      <td>0.2</td>\n",
       "      <td>NaN</td>\n",
       "      <td>NaN</td>\n",
       "      <td>NaN</td>\n",
       "      <td>NaN</td>\n",
       "      <td>NaN</td>\n",
       "    </tr>\n",
       "  </tbody>\n",
       "</table>\n",
       "<p>5 rows × 103 columns</p>\n",
       "</div>"
      ],
      "text/plain": [
       "hotel_cluster  srch_destination_id  hotel_country  hotel_market   0   1   2  \\\n",
       "0                                4              7           246 NaN NaN NaN   \n",
       "1                                8             50           416 NaN NaN NaN   \n",
       "2                               16             50           419 NaN NaN NaN   \n",
       "3                               21             77          1454 NaN NaN NaN   \n",
       "4                               24             50           606 NaN NaN NaN   \n",
       "\n",
       "hotel_cluster   3   4   5   6  ...  90   91  92  93   94  95  96  97  98  99  \n",
       "0             NaN NaN NaN NaN  ... NaN  NaN NaN NaN  NaN NaN NaN NaN NaN NaN  \n",
       "1             NaN NaN NaN NaN  ... NaN  NaN NaN NaN  NaN NaN NaN NaN NaN NaN  \n",
       "2             NaN NaN NaN NaN  ... NaN  0.5 NaN NaN  NaN NaN NaN NaN NaN NaN  \n",
       "3             NaN NaN NaN NaN  ... NaN  NaN NaN NaN  NaN NaN NaN NaN NaN NaN  \n",
       "4             NaN NaN NaN NaN  ... NaN  0.4 NaN NaN  0.2 NaN NaN NaN NaN NaN  \n",
       "\n",
       "[5 rows x 103 columns]"
      ]
     },
     "execution_count": 19,
     "metadata": {},
     "output_type": "execute_result"
    }
   ],
   "source": [
    "agg_pivot = aggreg.pivot_table(index=['srch_destination_id','hotel_country','hotel_market'], \n",
    "                               columns='hotel_cluster', values='sum_and_cnt').reset_index()\n",
    "agg_pivot.head()"
   ]
  },
  {
   "cell_type": "code",
   "execution_count": 20,
   "id": "3396b52c-f7c7-4f0c-a45a-df85474dcd00",
   "metadata": {},
   "outputs": [
    {
     "data": {
      "text/plain": [
       "(20032, 125)"
      ]
     },
     "execution_count": 20,
     "metadata": {},
     "output_type": "execute_result"
    }
   ],
   "source": [
    "df_mer = pd.merge(df, dest, how='left', on='srch_destination_id')\n",
    "df_mer = pd.merge(df, agg_pivot, how='left', on=['srch_destination_id','hotel_country','hotel_market'])\n",
    "df_mer.fillna(0, inplace=True)\n",
    "df_mer.shape"
   ]
  },
  {
   "cell_type": "code",
   "execution_count": 21,
   "id": "4c8c538a-cadf-405e-989d-22309d897270",
   "metadata": {},
   "outputs": [],
   "source": [
    "#train test split\n",
    "\n",
    "x2=df_mer.drop(['hotel_cluster'], axis=1)\n",
    "y2=df_mer.hotel_cluster\n",
    "\n",
    "from sklearn.model_selection import train_test_split\n",
    "X_train, X_test, y_train, y_test=train_test_split(x2,y2,test_size=.3,random_state=10)"
   ]
  },
  {
   "cell_type": "code",
   "execution_count": 22,
   "id": "a63fc6a0-7d0c-425a-90d5-04dd14d0519a",
   "metadata": {},
   "outputs": [],
   "source": [
    "#Random Forest\n",
    "\n",
    "from sklearn.ensemble import RandomForestClassifier\n",
    "\n",
    "rf_model=RandomForestClassifier()\n",
    "rf_model.fit(X_train,y_train)\n",
    "y_pred_rf=rf_model.predict(X_test)"
   ]
  },
  {
   "cell_type": "code",
   "execution_count": 26,
   "id": "936fcd94-8f20-4b6f-bca8-58fb95540e28",
   "metadata": {},
   "outputs": [
    {
     "name": "stdout",
     "output_type": "stream",
     "text": [
      "Accuracy Score:  0.2820299500831947\n",
      "Mean^2 Error:  1283.0074875207986\n"
     ]
    }
   ],
   "source": [
    "#check accuracy of RF\n",
    "\n",
    "from sklearn import metrics\n",
    "from sklearn.metrics import mean_squared_error\n",
    "print(\"Accuracy Score: \", metrics.accuracy_score(y_test,y_pred_rf))\n",
    "print(\"Mean^2 Error: \", metrics.mean_squared_error(y_test,y_pred_rf))"
   ]
  },
  {
   "cell_type": "code",
   "execution_count": 28,
   "id": "ce6522a0-1069-4d0e-bc5d-7c1fdf98ea8b",
   "metadata": {},
   "outputs": [],
   "source": [
    "#Decision tree\n",
    "from sklearn.tree import DecisionTreeClassifier\n",
    "dt_model=DecisionTreeClassifier()\n",
    "dt_model.fit(X_train,y_train)\n",
    "y_pred_dt=dt_model.predict(X_test)"
   ]
  },
  {
   "cell_type": "code",
   "execution_count": 30,
   "id": "891b5f90-8de2-4cbf-9a11-325bbe6a8155",
   "metadata": {},
   "outputs": [
    {
     "name": "stdout",
     "output_type": "stream",
     "text": [
      "Accuracy Score:  0.22179700499168054\n",
      "Mean^2 Error:  1371.110316139767\n"
     ]
    }
   ],
   "source": [
    "#check accuracy of DT\n",
    "\n",
    "from sklearn import metrics\n",
    "from sklearn.metrics import mean_squared_error\n",
    "print(\"Accuracy Score: \", metrics.accuracy_score(y_test,y_pred_dt))\n",
    "print(\"Mean^2 Error: \", metrics.mean_squared_error(y_test,y_pred_dt))"
   ]
  },
  {
   "cell_type": "code",
   "execution_count": null,
   "id": "2d0b7d99-43e8-40c4-9d21-df42d6347b84",
   "metadata": {},
   "outputs": [],
   "source": []
  }
 ],
 "metadata": {
  "kernelspec": {
   "display_name": "Python 3 (ipykernel)",
   "language": "python",
   "name": "python3"
  },
  "language_info": {
   "codemirror_mode": {
    "name": "ipython",
    "version": 3
   },
   "file_extension": ".py",
   "mimetype": "text/x-python",
   "name": "python",
   "nbconvert_exporter": "python",
   "pygments_lexer": "ipython3",
   "version": "3.8.2"
  }
 },
 "nbformat": 4,
 "nbformat_minor": 5
}
